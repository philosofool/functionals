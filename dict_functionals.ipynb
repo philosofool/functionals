{
 "cells": [
  {
   "cell_type": "markdown",
   "metadata": {},
   "source": [
    "# Dicitonary Functionals\n",
    "\n",
    "Provides functionals for diciontary related stuff.\n",
    "\n",
    "I'm not too sure about the jargon here: I'm using _functional_ to mean a function that returns a function. Typically, a functional's parameters determine the parameter of the function that's returned."
   ]
  },
  {
   "cell_type": "code",
   "execution_count": null,
   "metadata": {},
   "outputs": [],
   "source": [
    "\"\"\"Dictionary functionals contains functions that return dictionary manipulating functions.\n",
    "\n",
    "Functionals take zero or more parameters that specify how to manipulate a dictionary. Their returned \n",
    "functions take one or more dictionaries and return a value.\n",
    "\n",
    "Functionals\n",
    "-----------\n",
    "has_keys:\n",
    "    Tests whether dictionary has the keys in a list.\n",
    "\n",
    "filter_values:\n",
    "    Tests whether values in a dictionary satisfy a predicate.\n",
    "\n",
    "extract_keys:\n",
    "    Return a dictionary including only certain keys.\n",
    "\n",
    "drop_keys:\n",
    "    Return a dictionary excluding certain keys.\n",
    "\n",
    "map_values:\n",
    "    Apply a mapping to specified keys, returning the transformed dictionary.\n",
    "\n",
    "flatten_dictionary:\n",
    "    Return a dictionary that inherits the key-value pairs of any dictionary-valued key.\n",
    "\n",
    "\"\"\""
   ]
  },
  {
   "cell_type": "code",
   "execution_count": null,
   "metadata": {},
   "outputs": [],
   "source": [
    "from typing import List, Callable, Dict, Any"
   ]
  },
  {
   "cell_type": "code",
   "execution_count": null,
   "metadata": {},
   "outputs": [],
   "source": [
    "FunctionalMap = Dict[Any, Callable]"
   ]
  },
  {
   "cell_type": "code",
   "execution_count": null,
   "metadata": {},
   "outputs": [],
   "source": [
    "def has_keys(keys: List, every: bool = True, only: bool = True) -> Callable[[dict], dict]:\n",
    "    \"\"\"True if all/only keys are dictionary.\n",
    "    \n",
    "    every: bool\n",
    "        Requires all keys to be in a dictionary.\n",
    "\n",
    "    only: bool\n",
    "        Requires all dictionary keys to be in keys.\n",
    "    \n",
    "    If both all and only are false, returns True if and only if the dictionary is not\n",
    "    empty.\n",
    "\n",
    "    \"\"\"\n",
    "    def _func(dict_):\n",
    "        if every and only:\n",
    "            has_all = all([k in keys for k in dict_])\n",
    "            has_only = all([k in dict_.keys() for k in keys])\n",
    "            return has_all and has_only\n",
    "        if every:\n",
    "            return all([k in dict_ for k in keys])\n",
    "        if only:\n",
    "            return all([k in keys for k in dict_])\n",
    "        return bool(dict_)\n",
    "    return _func\n"
   ]
  },
  {
   "cell_type": "code",
   "execution_count": null,
   "metadata": {},
   "outputs": [],
   "source": [
    "def filter_values(mapping: FunctionalMap):\n",
    "    \"\"\"Return True if predicate in mapping is true for all.\"\"\" \n",
    "    def _func(dict_: dict) -> Callable[[Dict[Any, Callable]], dict]:\n",
    "        return all(mapping[k](v) for k, v in dict_.items() if k in mapping)\n",
    "    return _func\n"
   ]
  },
  {
   "cell_type": "code",
   "execution_count": null,
   "metadata": {},
   "outputs": [],
   "source": [
    "list_of_dicts = [\n",
    "    {'a': 1, 'b': 2},\n",
    "    {'c': 2, 'b': 3},\n",
    "    {'a': 2, 'b': 3, 'c': 0}\n",
    "]\n",
    "\n",
    "has_keys_test = list(filter(has_keys(['b'], every=False), list_of_dicts))\n",
    "print(has_keys_test)\n",
    "assert len(has_keys_test) == 3\n",
    "assert all([('b' in dict_) for dict_ in has_keys_test])"
   ]
  },
  {
   "cell_type": "code",
   "execution_count": null,
   "metadata": {},
   "outputs": [],
   "source": [
    "def extract_keys(keys: List[str]) -> Callable[[dict], dict]:\n",
    "    \"\"\"Returns dictionary whose only keys are keys parameter.\"\"\"\n",
    "    def _func(dict_: dict) -> dict:\n",
    "        return {k: v for k, v in dict_.items() if k in keys}\n",
    "    return _func\n",
    "\n",
    "def drop_keys(keys: List[str]) -> Callable[[dict], dict]:\n",
    "    \"\"\"Returns dictionary without keys in keys parameter.\"\"\"\n",
    "    def _func(dict_: dict) -> dict:\n",
    "        return {k: v for k, v in dict_.items() if k not in keys}\n",
    "    return _func\n"
   ]
  },
  {
   "cell_type": "code",
   "execution_count": null,
   "metadata": {},
   "outputs": [],
   "source": [
    "def map_values(mapping: FunctionalMap):\n",
    "    \"\"\"Apply a mapping to each column.\"\"\"\n",
    "    def _func(dict_: dict) -> dict:\n",
    "        anon = (lambda k, v: mapping[k](v) if k in mapping else v)\n",
    "        return {k: anon(k, v) for k, v in dict_.items()}\n",
    "    return _func\n"
   ]
  },
  {
   "cell_type": "code",
   "execution_count": null,
   "metadata": {},
   "outputs": [],
   "source": [
    "def flatten_dict():\n",
    "    \"\"\"Flatten the dictionary, i.e., make each key have a non-dict value,\n",
    "    adding keys from dict valued keys.\n",
    "    \"\"\"\n",
    "    def _func(dict_):\n",
    "        out = {k: v for k, v in dict_.items() if type(v) != dict}\n",
    "        for key in dict_:\n",
    "            if type(dict_[key]) == dict:\n",
    "                out.update({k: v for k, v in dict_[key].items()})\n",
    "        return out\n",
    "    return _func\n",
    "    \n",
    "assert flatten_dict()({\"a\": 1, 'd': {\"b\":1, 'c': 1}}) == {'a': 1, 'b': 1, 'c': 1}"
   ]
  },
  {
   "cell_type": "code",
   "execution_count": null,
   "metadata": {},
   "outputs": [],
   "source": [
    "import math\n",
    "def sequential_func(*functions):\n",
    "    \"\"\"Apply functions in order.\"\"\"\n",
    "    def _func(*args):\n",
    "        for function in functions:\n",
    "            try:\n",
    "                args = function(*args)\n",
    "            except TypeError:\n",
    "                args = function(args)\n",
    "        return args\n",
    "    return _func\n"
   ]
  }
 ],
 "metadata": {
  "interpreter": {
   "hash": "02ee4401c5460a4ee3bc94108cf95546c8e39c298a8555b54bdd3e60e7d4869e"
  },
  "kernelspec": {
   "display_name": "Python 3.8.5 64-bit ('base': conda)",
   "name": "python3"
  },
  "language_info": {
   "codemirror_mode": {
    "name": "ipython",
    "version": 3
   },
   "file_extension": ".py",
   "mimetype": "text/x-python",
   "name": "python",
   "nbconvert_exporter": "python",
   "pygments_lexer": "ipython3",
   "version": "3.8.5"
  },
  "orig_nbformat": 4
 },
 "nbformat": 4,
 "nbformat_minor": 2
}
