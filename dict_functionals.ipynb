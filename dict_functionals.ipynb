{
 "cells": [
  {
   "cell_type": "markdown",
   "metadata": {},
   "source": [
    "# Dicitonary Functionals\n",
    "\n",
    "Provides functionals for diciontary related stuff. In most cases, named tuples are also supported.\n",
    "\n",
    "I'm not too sure about the jargon here: I'm using _functional_ to mean a function that returns a function. Typically, a functional's parameters determine the parameter of the function that's returned."
   ]
  },
  {
   "cell_type": "code",
   "execution_count": 2,
   "metadata": {},
   "outputs": [
    {
     "data": {
      "text/plain": [
       "'Dictionary functionals contains functions that return dictionary manipulating functions.\\n\\nFunctionals take zero or more parameters that specify how to manipulate a dictionary. Their returned \\nfunctions take one or more dictionaries and return a value.\\n\\nFunctionals\\n-----------\\nhas_keys:\\n    Tests whether dictionary has the keys in a list.\\n\\nfilter_values:\\n    Tests whether values in a dictionary satisfy a predicate.\\n\\nextract_keys:\\n    Return a dictionary including only certain keys.\\n\\ndrop_keys:\\n    Return a dictionary excluding certain keys.\\n\\nmap_values:\\n    Apply a mapping to specified keys, returning the transformed dictionary.\\n\\nflatten_dictionary:\\n    Return a dictionary that inherits the key-value pairs of any dictionary-valued key.\\n\\n'"
      ]
     },
     "execution_count": 2,
     "metadata": {},
     "output_type": "execute_result"
    }
   ],
   "source": [
    "\"\"\"Dictionary functionals contains functions that return dictionary manipulating functions.\n",
    "\n",
    "Functionals take zero or more parameters that specify how to manipulate a dictionary. Their returned \n",
    "functions take one or more dictionaries and return a value.\n",
    "\n",
    "Functionals\n",
    "-----------\n",
    "has_keys:\n",
    "    Tests whether dictionary has the keys in a list.\n",
    "\n",
    "filter_values:\n",
    "    Tests whether values in a dictionary satisfy a predicate.\n",
    "\n",
    "extract_keys:\n",
    "    Return a dictionary including only certain keys.\n",
    "\n",
    "drop_keys:\n",
    "    Return a dictionary excluding certain keys.\n",
    "\n",
    "map_values:\n",
    "    Apply a mapping to specified keys, returning the transformed dictionary.\n",
    "\n",
    "flatten_dictionary:\n",
    "    Return a dictionary that inherits the key-value pairs of any dictionary-valued key.\n",
    "\n",
    "\"\"\""
   ]
  },
  {
   "cell_type": "code",
   "execution_count": 52,
   "metadata": {},
   "outputs": [],
   "source": [
    "from typing import List, Callable, Dict, Any\n",
    "from functools import singledispatch, lru_cache\n",
    "from collections import namedtuple"
   ]
  },
  {
   "cell_type": "code",
   "execution_count": 15,
   "metadata": {},
   "outputs": [],
   "source": [
    "FunctionalMap = Dict[Any, Callable]"
   ]
  },
  {
   "cell_type": "code",
   "execution_count": 16,
   "metadata": {},
   "outputs": [],
   "source": [
    "def has_keys(keys: List, every: bool = True, only: bool = True) -> Callable[[dict], dict]:\n",
    "    \"\"\"True if all/only keys are dictionary.\n",
    "    \n",
    "    every: bool\n",
    "        Requires all keys to be in a dictionary.\n",
    "\n",
    "    only: bool\n",
    "        Requires all dictionary keys to be in keys.\n",
    "    \n",
    "    If both all and only are false, returns True if and only if the dictionary is not\n",
    "    empty.\n",
    "\n",
    "    \"\"\"\n",
    "    def _func(dict_):\n",
    "        if every and only:\n",
    "            has_all = all([k in keys for k in dict_])\n",
    "            has_only = all([k in dict_.keys() for k in keys])\n",
    "            return has_all and has_only\n",
    "        if every:\n",
    "            return all([k in dict_ for k in keys])\n",
    "        if only:\n",
    "            return all([k in keys for k in dict_])\n",
    "        return bool(dict_)\n",
    "    return _func\n"
   ]
  },
  {
   "cell_type": "code",
   "execution_count": 67,
   "metadata": {},
   "outputs": [
    {
     "data": {
      "text/plain": [
       "False"
      ]
     },
     "execution_count": 67,
     "metadata": {},
     "output_type": "execute_result"
    }
   ],
   "source": [
    "type(namedtuple)\n",
    "\n",
    "@lru_cache(maxsize=32)\n",
    "def nt_builder(name, *args):\n",
    "    \"\"\"Builds named tuples with a cache.\"\"\"\n",
    "    return namedtuple(name, args)\n"
   ]
  },
  {
   "cell_type": "code",
   "execution_count": 63,
   "metadata": {},
   "outputs": [
    {
     "data": {
      "text/plain": [
       "'test(a=1, b=2)'"
      ]
     },
     "execution_count": 63,
     "metadata": {},
     "output_type": "execute_result"
    }
   ],
   "source": [
    "repr(nt_builder('test', *['a', 'b'])._make((1, 2)))"
   ]
  },
  {
   "cell_type": "code",
   "execution_count": 29,
   "metadata": {},
   "outputs": [
    {
     "name": "stdout",
     "output_type": "stream",
     "text": [
      "['a']\n"
     ]
    },
    {
     "data": {
      "text/plain": [
       "True"
      ]
     },
     "execution_count": 29,
     "metadata": {},
     "output_type": "execute_result"
    }
   ],
   "source": [
    "def filter_values(mapping: FunctionalMap):\n",
    "    \"\"\"Return True if predicate in mapping is true for all.\"\"\" \n",
    "    @singledispatch\n",
    "    def _func(dict_: dict) -> Callable[[Dict[Any, Callable]], dict]:\n",
    "        return all(mapping[k](dict_[k]) for k in dict_)\n",
    "\n",
    "    @_func.register\n",
    "    def _(dict_: tuple):\n",
    "        return all(mapping[k](getattr(dict_, k)) for k in mapping)\n",
    "    return _func\n",
    "\n",
    "test_nt = namedtuple('test_nt', ['a', 'b'])\n",
    "d = {'a': lambda x: x > 2}\n",
    "assert not filter_values(d)({'a': 1})\n",
    "assert filter_values(d)({'a': 3})\n",
    "assert filter_values(d)(test_nt(3, 1))\n"
   ]
  },
  {
   "cell_type": "code",
   "execution_count": null,
   "metadata": {},
   "outputs": [],
   "source": [
    "list_of_dicts = [\n",
    "    {'a': 1, 'b': 2},\n",
    "    {'c': 2, 'b': 3},\n",
    "    {'a': 2, 'b': 3, 'c': 0}\n",
    "]\n",
    "\n",
    "has_keys_test = list(filter(has_keys(['b'], every=False), list_of_dicts))\n",
    "print(has_keys_test)\n",
    "assert len(has_keys_test) == 3\n",
    "assert all([('b' in dict_) for dict_ in has_keys_test])"
   ]
  },
  {
   "cell_type": "code",
   "execution_count": 52,
   "metadata": {},
   "outputs": [],
   "source": [
    "def extract_keys(keys: List[str]) -> Callable[[dict], dict]:\n",
    "    \"\"\"Returns dictionary whose only keys are keys parameter.\"\"\"\n",
    "    @singledispatch\n",
    "    def _func(dict_: dict) -> dict:\n",
    "        return {k: v for k, v in dict_.items() if k in keys}\n",
    "\n",
    "    @_func.register\n",
    "    def _(dict_: tuple):\n",
    "        fields = [field for field in dict_.fieldnames if field in keys]\n",
    "        new_namedtuple = nt_builder('extracted', *fields)\n",
    "        return new_namedtuple._make(getattr(dict_, f) for f in fields)\n",
    "\n",
    "    return _func\n",
    "\n",
    "def drop_keys(keys: List[str]) -> Callable[[dict], dict]:\n",
    "    \"\"\"Returns dictionary without keys in keys parameter.\"\"\"\n",
    "    def _func(dict_: dict) -> dict:\n",
    "        return {k: v for k, v in dict_.items() if k not in keys}\n",
    "\n",
    "    @_func.register\n",
    "    def _(dict_: tuple):\n",
    "        fields = [field for field in dict_.fieldnames if field not in keys]\n",
    "        new_namedtuple = nt_builder('dropped', *fields)\n",
    "        return new_namedtuple._make(getattr(dict_, f) for f in fields)\n",
    "\n",
    "    return _func\n"
   ]
  },
  {
   "cell_type": "code",
   "execution_count": null,
   "metadata": {},
   "outputs": [
    {
     "name": "stdout",
     "output_type": "stream",
     "text": [
      "{'a': 1, 'b': 2}\n",
      "[{'a': 1, 'b': 2}, {'c': 2, 'b': 3}, {'a': 2, 'b': 3, 'c': 0}]\n"
     ]
    },
    {
     "data": {
      "text/plain": [
       "[{'a': 6, 'b': 2}, {'c': 2, 'b': 3}, {'a': 12, 'b': 3, 'c': 0}]"
      ]
     },
     "execution_count": 52,
     "metadata": {},
     "output_type": "execute_result"
    }
   ],
   "source": [
    "def map_values(mapping: FunctionalMap):\n",
    "    \"\"\"Apply a mapping to each column.\"\"\"\n",
    "    def _func(dict_: dict) -> dict:\n",
    "        anon = (lambda k, v: mapping[k](v) if k in mapping else v)\n",
    "        return {k: anon(k, v) for k, v in dict_.items()}\n",
    "    return _func\n"
   ]
  },
  {
   "cell_type": "code",
   "execution_count": null,
   "metadata": {},
   "outputs": [],
   "source": [
    "def flatten_dict():\n",
    "    \"\"\"Flatten the dictionary, i.e., make each key have a non-dict value,\n",
    "    adding keys from dict valued keys.\n",
    "    \"\"\"\n",
    "    def _func(dict_):\n",
    "        out = {k: v for k, v in dict_.items() if type(v) != dict}\n",
    "        for key in dict_:\n",
    "            if type(dict_[key]) == dict:\n",
    "                out.update({k: v for k, v in dict_[key].items()})\n",
    "        return out\n",
    "    return _func\n",
    "    \n",
    "assert flatten_dict()({\"a\": 1, 'd': {\"b\":1, 'c': 1}}) == {'a': 1, 'b': 1, 'c': 1}"
   ]
  },
  {
   "cell_type": "code",
   "execution_count": 27,
   "metadata": {},
   "outputs": [],
   "source": [
    "import math\n",
    "def sequential_func(*functions):\n",
    "    \"\"\"Apply functions in order.\"\"\"\n",
    "    def _func(*args):\n",
    "        for function in functions:\n",
    "            try:\n",
    "                args = function(*args)\n",
    "            except TypeError:\n",
    "                args = function(args)\n",
    "        return args\n",
    "    return _func\n",
    "\n",
    "squaring = lambda x, y: (x**2, y**2)\n",
    "summing = lambda x, y: x + y\n",
    "rooting = lambda x: math.sqrt(x)\n",
    "\n",
    "assert sequential_func(rooting, rooting)(16) == 2\n",
    "assert sequential_func(squaring, summing, rooting)(3, 4) == 5"
   ]
  },
  {
   "cell_type": "code",
   "execution_count": 28,
   "metadata": {},
   "outputs": [
    {
     "name": "stdout",
     "output_type": "stream",
     "text": [
      "2.09 µs ± 26.9 ns per loop (mean ± std. dev. of 7 runs, 100000 loops each)\n"
     ]
    }
   ],
   "source": [
    "%timeit sequential_func(squaring, summing, rooting)(3, 4)"
   ]
  },
  {
   "cell_type": "code",
   "execution_count": 40,
   "metadata": {},
   "outputs": [
    {
     "name": "stdout",
     "output_type": "stream",
     "text": [
      "838 ns ± 3 ns per loop (mean ± std. dev. of 7 runs, 1000000 loops each)\n"
     ]
    }
   ],
   "source": [
    "%timeit rooting(summing(*squaring(3,4)))"
   ]
  },
  {
   "cell_type": "code",
   "execution_count": null,
   "metadata": {},
   "outputs": [
    {
     "name": "stdout",
     "output_type": "stream",
     "text": [
      "{'a': 6, 'b': 2}\n"
     ]
    }
   ],
   "source": [
    "\n",
    "mapping = {'a': lambda x: x * 6}\n",
    "print(map_values(mapping)(list_of_dicts[0]))\n",
    "assert map_values(mapping)(list_of_dicts[0]) == {'a': 6, 'b': 2}\n",
    "assert len(list(map(map_values(mapping), list_of_dicts))) == 3\n"
   ]
  },
  {
   "cell_type": "code",
   "execution_count": null,
   "metadata": {},
   "outputs": [
    {
     "data": {
      "text/plain": [
       "40"
      ]
     },
     "execution_count": 53,
     "metadata": {},
     "output_type": "execute_result"
    }
   ],
   "source": [
    "from functools import reduce \n",
    "\n",
    "reduce(lambda x, y: x * y, [1, 2, 4, 5])"
   ]
  },
  {
   "cell_type": "markdown",
   "metadata": {},
   "source": [
    "## \"Aggregation\" reduction\n",
    "\n",
    "One of the standard functional opperations is _reduce_. In the context of a list, reduce takes the first pair of elements in a list, applies a function, and then applies the function to the result and the next element in the list until the list is consumed. In the context of applying function to a list of dictionaries, reduction might apply to a key for each dictionary in the list or it might apply to a dictionary for each key in the dictionary. This is akin to applying a function to columns or rows in a multidimensional array. \n",
    "\n",
    "If we want to follow a standard functional approach, we would apply reduce to columns. Note that since reduce is not necessarily using an associative funciton (i.e. func(a, b) is not necessarily equal to func(b, a)).\n",
    "\n",
    "So, you're basically looking at column_name: reduce_func. reduce(sum, dict) -> sum(sum ... sum(dict3, sum(dict1, dict2)) ...).\n",
    "```\n",
    "def sum(dict1, dict2):\n",
    "    return {k : dict1[k] + dict2[k] for k in dict1}\n",
    "\n",
    "### more general\n",
    "def reducte_dict(mapping):\n",
    "    return{k: mapping[k](dict1, dict2) for k in mapping}"
   ]
  },
  {
   "cell_type": "code",
   "execution_count": null,
   "metadata": {},
   "outputs": [
    {
     "ename": "TypeError",
     "evalue": "unhashable type: 'list'",
     "output_type": "error",
     "traceback": [
      "\u001b[1;31m---------------------------------------------------------------------------\u001b[0m",
      "\u001b[1;31mTypeError\u001b[0m                                 Traceback (most recent call last)",
      "\u001b[1;32m<ipython-input-54-e3bf4230dc5a>\u001b[0m in \u001b[0;36m<module>\u001b[1;34m\u001b[0m\n\u001b[0;32m      9\u001b[0m     \u001b[1;32mreturn\u001b[0m \u001b[0m_func\u001b[0m\u001b[1;33m\u001b[0m\u001b[1;33m\u001b[0m\u001b[0m\n\u001b[0;32m     10\u001b[0m \u001b[0msum_b\u001b[0m \u001b[1;33m=\u001b[0m \u001b[0maggregate_dict\u001b[0m\u001b[1;33m(\u001b[0m\u001b[1;33m{\u001b[0m\u001b[1;34m'b'\u001b[0m\u001b[1;33m:\u001b[0m \u001b[1;32mlambda\u001b[0m \u001b[0mx\u001b[0m\u001b[1;33m,\u001b[0m \u001b[0my\u001b[0m\u001b[1;33m:\u001b[0m \u001b[0mx\u001b[0m \u001b[1;33m+\u001b[0m \u001b[0my\u001b[0m\u001b[1;33m}\u001b[0m\u001b[1;33m)\u001b[0m\u001b[1;33m\u001b[0m\u001b[1;33m\u001b[0m\u001b[0m\n\u001b[1;32m---> 11\u001b[1;33m \u001b[0mlist\u001b[0m\u001b[1;33m(\u001b[0m\u001b[0msum_b\u001b[0m\u001b[1;33m(\u001b[0m\u001b[1;33m{\u001b[0m\u001b[0mlist_of_dicts\u001b[0m\u001b[1;33m}\u001b[0m\u001b[1;33m)\u001b[0m\u001b[1;33m)\u001b[0m\u001b[1;33m\u001b[0m\u001b[1;33m\u001b[0m\u001b[0m\n\u001b[0m",
      "\u001b[1;31mTypeError\u001b[0m: unhashable type: 'list'"
     ]
    }
   ],
   "source": [
    "# def transpose_dict(keys):\n",
    "#     # Is this a good idea?\n",
    "#     def _func(list_of_dicts):\n",
    "\n",
    "\n",
    "def aggregate_dict(mapping):\n",
    "    def _func(dict1, dict2):\n",
    "        return{k: mapping[k](dict1[k]) for k in mapping.keys()}\n",
    "    return _func\n",
    "sum_b = aggregate_dict({'b': lambda x, y: x + y})\n",
    "list(sum_b({list_of_dicts}))"
   ]
  },
  {
   "cell_type": "code",
   "execution_count": null,
   "metadata": {},
   "outputs": [],
   "source": []
  }
 ],
 "metadata": {
  "interpreter": {
   "hash": "02ee4401c5460a4ee3bc94108cf95546c8e39c298a8555b54bdd3e60e7d4869e"
  },
  "kernelspec": {
   "display_name": "Python 3.8.5 64-bit ('base': conda)",
   "name": "python3"
  },
  "language_info": {
   "codemirror_mode": {
    "name": "ipython",
    "version": 3
   },
   "file_extension": ".py",
   "mimetype": "text/x-python",
   "name": "python",
   "nbconvert_exporter": "python",
   "pygments_lexer": "ipython3",
   "version": "3.8.5"
  },
  "orig_nbformat": 4
 },
 "nbformat": 4,
 "nbformat_minor": 2
}
