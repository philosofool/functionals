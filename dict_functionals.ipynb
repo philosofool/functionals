{
 "cells": [
  {
   "cell_type": "markdown",
   "metadata": {},
   "source": [
    "# Dicitonary Functionals\n",
    "\n",
    "Provides functionals for diciontary related stuff. In most cases, named tuples are also supported.\n",
    "\n",
    "I'm not too sure about the jargon here: I'm using _functional_ to mean a function that returns a function. Typically, a functional's parameters determine the parameter of the function that's returned."
   ]
  },
  {
   "cell_type": "code",
   "execution_count": 1,
   "metadata": {},
   "outputs": [
    {
     "data": {
      "text/plain": [
       "'Dictionary functionals contains functions that return dictionary manipulating functions.\\n\\nFunctionals take zero or more parameters that specify how to manipulate a dictionary. Their returned \\nfunctions take one or more dictionaries and return a value.\\n\\nFunctionals\\n-----------\\nhas_keys:\\n    Tests whether dictionary has the keys in a list.\\n\\nfilter_values:\\n    Tests whether values in a dictionary satisfy a predicate.\\n\\nextract_keys:\\n    Return a dictionary including only certain keys.\\n\\ndrop_keys:\\n    Return a dictionary excluding certain keys.\\n\\nmap_values:\\n    Apply a mapping to specified keys, returning the transformed dictionary.\\n\\nflatten_dictionary:\\n    Return a dictionary that inherits the key-value pairs of any dictionary-valued key.\\n\\n'"
      ]
     },
     "execution_count": 1,
     "metadata": {},
     "output_type": "execute_result"
    }
   ],
   "source": [
    "\"\"\"Dictionary functionals contains functions that return dictionary manipulating functions.\n",
    "\n",
    "Functionals take zero or more parameters that specify how to manipulate a dictionary. Their returned \n",
    "functions take one or more dictionaries and return a value.\n",
    "\n",
    "Functionals\n",
    "-----------\n",
    "has_keys:\n",
    "    Tests whether dictionary has the keys in a list.\n",
    "\n",
    "filter_values:\n",
    "    Tests whether values in a dictionary satisfy a predicate.\n",
    "\n",
    "extract_keys:\n",
    "    Return a dictionary including only certain keys.\n",
    "\n",
    "drop_keys:\n",
    "    Return a dictionary excluding certain keys.\n",
    "\n",
    "map_values:\n",
    "    Apply a mapping to specified keys, returning the transformed dictionary.\n",
    "\n",
    "flatten_dictionary:\n",
    "    Return a dictionary that inherits the key-value pairs of any dictionary-valued key.\n",
    "\n",
    "\"\"\""
   ]
  },
  {
   "cell_type": "code",
   "execution_count": 10,
   "metadata": {},
   "outputs": [
    {
     "ename": "ImportError",
     "evalue": "attempted relative import with no known parent package",
     "output_type": "error",
     "traceback": [
      "\u001b[1;31m---------------------------------------------------------------------------\u001b[0m",
      "\u001b[1;31mImportError\u001b[0m                               Traceback (most recent call last)",
      "\u001b[1;32m~\\AppData\\Local\\Temp/ipykernel_32004/1839417495.py\u001b[0m in \u001b[0;36m<module>\u001b[1;34m\u001b[0m\n\u001b[0;32m      3\u001b[0m \u001b[1;32mfrom\u001b[0m \u001b[0mcollections\u001b[0m \u001b[1;32mimport\u001b[0m \u001b[0mnamedtuple\u001b[0m\u001b[1;33m\u001b[0m\u001b[1;33m\u001b[0m\u001b[0m\n\u001b[0;32m      4\u001b[0m \u001b[1;33m\u001b[0m\u001b[0m\n\u001b[1;32m----> 5\u001b[1;33m \u001b[1;32mfrom\u001b[0m \u001b[1;33m.\u001b[0m\u001b[0mdict_functionals\u001b[0m \u001b[1;32mimport\u001b[0m \u001b[0mhas_keys\u001b[0m\u001b[1;33m,\u001b[0m \u001b[0mextract_keys\u001b[0m\u001b[1;33m,\u001b[0m \u001b[0mdrop_keys\u001b[0m\u001b[1;33m,\u001b[0m \u001b[0mmap_values\u001b[0m\u001b[1;33m,\u001b[0m \u001b[0mfilter_values\u001b[0m\u001b[1;33m,\u001b[0m \u001b[0mflatten_dict\u001b[0m\u001b[1;33m\u001b[0m\u001b[1;33m\u001b[0m\u001b[0m\n\u001b[0m",
      "\u001b[1;31mImportError\u001b[0m: attempted relative import with no known parent package"
     ]
    }
   ],
   "source": [
    "from typing import List, Callable, Dict, Any\n",
    "from functools import singledispatch, lru_cache\n",
    "from collections import namedtuple\n",
    "\n",
    "from functionals.dict_functionals import has_keys, extract_keys, drop_keys, map_values, filter_values, flatten_dict\n",
    "from functions.utils import nt_builder"
   ]
  },
  {
   "cell_type": "code",
   "execution_count": 4,
   "metadata": {},
   "outputs": [],
   "source": [
    "FunctionalMap = Dict[Any, Callable]"
   ]
  },
  {
   "cell_type": "code",
   "execution_count": 5,
   "metadata": {},
   "outputs": [],
   "source": [
    "test_nt = namedtuple('test_nt', ['a', 'b'])\n",
    "d = {'a': lambda x: x > 2}\n",
    "assert not filter_values(d)({'a': 1})\n",
    "assert filter_values(d)({'a': 3})\n",
    "assert filter_values(d)(test_nt(3, 1))\n"
   ]
  },
  {
   "cell_type": "code",
   "execution_count": 6,
   "metadata": {},
   "outputs": [],
   "source": [
    "list_of_dicts = [\n",
    "    {'a': 1, 'b': 2},\n",
    "    {'c': 2, 'b': 3},\n",
    "    {'a': 2, 'b': 3, 'c': 0}\n",
    "]\n",
    "\n",
    "has_keys_test = list(filter(has_keys(['b'], every=True), list_of_dicts))\n",
    "assert len(has_keys_test) == 3\n",
    "assert all([('b' in dict_) for dict_ in has_keys_test])"
   ]
  },
  {
   "cell_type": "code",
   "execution_count": 23,
   "metadata": {},
   "outputs": [],
   "source": [
    "nt_version = namedtuple('test', ['a', 'b'])(1, 0)\n",
    "assert drop_keys(['a'])({'a': 1, 'b': 0}) == {'b': 0}\n",
    "assert drop_keys(['a'])(nt_version) == namedtuple('dropped', ['b'])(0)\n",
    "assert extract_keys(['a'])({'a': 1, 'b': 0}) == {'a': 1}\n",
    "assert extract_keys(['a'])(nt_version) == namedtuple('extracted', ['a'])(1)\n",
    "assert map_values({'a': lambda x: x + 1})({'a': 1, 'b': 0}) == {'a': 2, 'b': 0}\n",
    "assert map_values({'a': lambda x: x + 1})(nt_version) == namedtuple('test', ['a', 'b'])(2, 0)"
   ]
  },
  {
   "cell_type": "code",
   "execution_count": 32,
   "metadata": {},
   "outputs": [
    {
     "name": "stdout",
     "output_type": "stream",
     "text": [
      "22.6 µs ± 88.2 ns per loop (mean ± std. dev. of 7 runs, 10000 loops each)\n"
     ]
    }
   ],
   "source": [
    "%timeit map_values({'a': lambda x: x**2})(test_nt(3, 1))\n",
    "#isinstance(test_nt(3, 1)       , tuple)\n",
    "        \n"
   ]
  },
  {
   "cell_type": "code",
   "execution_count": null,
   "metadata": {},
   "outputs": [],
   "source": [
    "%timeit map_values({'a': lambda x: x**2})({'a': 3, 'b': 1, 'c': 2})"
   ]
  },
  {
   "cell_type": "code",
   "execution_count": null,
   "metadata": {},
   "outputs": [
    {
     "data": {
      "text/plain": [
       "{'a': 1, 'd__b': 1, 'd__c': 1}"
      ]
     },
     "execution_count": 8,
     "metadata": {},
     "output_type": "execute_result"
    }
   ],
   "source": [
    "assert flatten_dict()({\"a\": 1, 'd': {\"b\":1, 'c': 1}}) == {'a': 1, 'd__b': 1, 'd__c': 1}"
   ]
  },
  {
   "cell_type": "code",
   "execution_count": 7,
   "metadata": {},
   "outputs": [
    {
     "ename": "UnboundLocalError",
     "evalue": "local variable 'var' referenced before assignment",
     "output_type": "error",
     "traceback": [
      "\u001b[1;31m---------------------------------------------------------------------------\u001b[0m",
      "\u001b[1;31mUnboundLocalError\u001b[0m                         Traceback (most recent call last)",
      "\u001b[1;32m~\\AppData\\Local\\Temp/ipykernel_31212/3567289595.py\u001b[0m in \u001b[0;36m<module>\u001b[1;34m\u001b[0m\n\u001b[0;32m      7\u001b[0m     \u001b[0mprint\u001b[0m\u001b[1;33m(\u001b[0m\u001b[0mvar\u001b[0m\u001b[1;33m)\u001b[0m\u001b[1;33m\u001b[0m\u001b[1;33m\u001b[0m\u001b[0m\n\u001b[0;32m      8\u001b[0m \u001b[1;33m\u001b[0m\u001b[0m\n\u001b[1;32m----> 9\u001b[1;33m \u001b[0mmy_function\u001b[0m\u001b[1;33m(\u001b[0m\u001b[1;33m)\u001b[0m \u001b[1;31m# Calling function\u001b[0m\u001b[1;33m\u001b[0m\u001b[1;33m\u001b[0m\u001b[0m\n\u001b[0m",
      "\u001b[1;32m~\\AppData\\Local\\Temp/ipykernel_31212/3567289595.py\u001b[0m in \u001b[0;36mmy_function\u001b[1;34m()\u001b[0m\n\u001b[0;32m      3\u001b[0m \u001b[1;33m\u001b[0m\u001b[0m\n\u001b[0;32m      4\u001b[0m \u001b[1;32mdef\u001b[0m \u001b[0mmy_function\u001b[0m\u001b[1;33m(\u001b[0m\u001b[1;33m)\u001b[0m\u001b[1;33m:\u001b[0m\u001b[1;33m\u001b[0m\u001b[1;33m\u001b[0m\u001b[0m\n\u001b[1;32m----> 5\u001b[1;33m     \u001b[0mprint\u001b[0m\u001b[1;33m(\u001b[0m\u001b[0mvar\u001b[0m\u001b[1;33m)\u001b[0m\u001b[1;33m\u001b[0m\u001b[1;33m\u001b[0m\u001b[0m\n\u001b[0m\u001b[0;32m      6\u001b[0m     \u001b[0mvar\u001b[0m \u001b[1;33m=\u001b[0m \u001b[1;34m'Hello'\u001b[0m \u001b[1;31m# This causes UnboundLocalError\u001b[0m\u001b[1;33m\u001b[0m\u001b[1;33m\u001b[0m\u001b[0m\n\u001b[0;32m      7\u001b[0m     \u001b[0mprint\u001b[0m\u001b[1;33m(\u001b[0m\u001b[0mvar\u001b[0m\u001b[1;33m)\u001b[0m\u001b[1;33m\u001b[0m\u001b[1;33m\u001b[0m\u001b[0m\n",
      "\u001b[1;31mUnboundLocalError\u001b[0m: local variable 'var' referenced before assignment"
     ]
    }
   ],
   "source": [
    "\n",
    "# UnboundLocalError in Python\n",
    "var = 20 # a is global variable\n",
    "\n",
    "def my_function():\n",
    "    print(var)\n",
    "    var = 'Hello' # This causes UnboundLocalError\n",
    "    print(var)\n",
    "\n",
    "my_function() # Calling function\n"
   ]
  },
  {
   "cell_type": "code",
   "execution_count": null,
   "metadata": {},
   "outputs": [],
   "source": [
    "import math\n",
    "def sequential_func(*functions):\n",
    "    \"\"\"Apply functions in order.\"\"\"\n",
    "    def _func(*args):\n",
    "        for function in functions:\n",
    "            try:\n",
    "                args = function(*args)\n",
    "            except TypeError:\n",
    "                args = function(args)\n",
    "        return args\n",
    "    return _func\n"
   ]
  },
  {
   "cell_type": "code",
   "execution_count": 12,
   "metadata": {},
   "outputs": [],
   "source": [
    "def explode_dict(dictionary, keys: list, acc=[], except_func=lambda x: not isinstance(x, list)):\n",
    "    \"\"\"Return an iterable of dictionaries from a dictionary with iterable values.\n",
    "\n",
    "    Parameters\n",
    "    ----------\n",
    "    key\n",
    "        The key(s) to explode.\n",
    "\n",
    "    Returns\n",
    "    -------\n",
    "        A generator yielding the exploded dictionaries.\n",
    "\n",
    "    Example\n",
    "    -------\n",
    "        list(explode_dict({a: [1, 2], b: [3, 4]}, ['a']))\n",
    "        >>> [{a: 1, b: 3}, {a: 2, b: 3}, {a: 1, b: 4}, {a: 2, b: 4}]\n",
    "    \"\"\"\n",
    "\n",
    "    def _yield_values(d, key):\n",
    "        if not hasattr(d[key], '__iter__') or except_func(d[key]):\n",
    "            yield d[key]\n",
    "        else:\n",
    "            yield from d[key]\n",
    "\n",
    "    if not acc:\n",
    "        return explode_dict({}, keys, [dictionary])\n",
    "    if len(keys) == 1:\n",
    "        return ({**d, keys[0]: v} for d in acc for v in _yield_values(d, keys[0]))\n",
    "    acc = explode_dict({}, keys[:1], acc)\n",
    "    return explode_dict({}, keys[1:], acc)\n"
   ]
  },
  {
   "cell_type": "code",
   "execution_count": 16,
   "metadata": {},
   "outputs": [
    {
     "data": {
      "text/plain": [
       "[{1: 0, 2: 2},\n",
       " {1: 0, 2: 0},\n",
       " {1: 1, 2: 2},\n",
       " {1: 1, 2: 0},\n",
       " {1: 2, 2: 2},\n",
       " {1: 2, 2: 0}]"
      ]
     },
     "execution_count": 16,
     "metadata": {},
     "output_type": "execute_result"
    }
   ],
   "source": [
    "list(explode_dict(test_case, [1, 2]))"
   ]
  },
  {
   "cell_type": "code",
   "execution_count": 18,
   "metadata": {},
   "outputs": [],
   "source": [
    "test_case = {1: [0, 1, 2], 2: [2, 0]}\n",
    "assert list(explode_dict(test_case, [1, 2])) == [\n",
    "    {1: 0, 2: 2},\n",
    "    {1: 0, 2: 0},\n",
    "    {1: 1, 2: 2},\n",
    "    {1: 1, 2: 0},\n",
    "    {1: 2, 2: 2},\n",
    "    {1: 2, 2: 0}\n",
    "]\n",
    "test_case2 = {1: 1, 2: [2, 3]}\n",
    "assert list(explode_dict(test_case2, [1])) == [test_case2]"
   ]
  },
  {
   "cell_type": "code",
   "execution_count": null,
   "metadata": {},
   "outputs": [],
   "source": []
  }
 ],
 "metadata": {
  "kernelspec": {
   "display_name": "Python 3.10.4 64-bit",
   "language": "python",
   "name": "python3"
  },
  "language_info": {
   "codemirror_mode": {
    "name": "ipython",
    "version": 3
   },
   "file_extension": ".py",
   "mimetype": "text/x-python",
   "name": "python",
   "nbconvert_exporter": "python",
   "pygments_lexer": "ipython3",
   "version": "3.10.4"
  },
  "orig_nbformat": 4,
  "vscode": {
   "interpreter": {
    "hash": "916dbcbb3f70747c44a77c7bcd40155683ae19c65e1c03b4aa3499c5328201f1"
   }
  }
 },
 "nbformat": 4,
 "nbformat_minor": 2
}
