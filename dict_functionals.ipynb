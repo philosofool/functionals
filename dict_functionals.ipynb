{
 "cells": [
  {
   "cell_type": "markdown",
   "metadata": {},
   "source": [
    "# Dicitonary Functionals\n",
    "\n",
    "Provides functionals for diciontary related stuff. In most cases, named tuples are also supported.\n",
    "\n",
    "I'm not too sure about the jargon here: I'm using _functional_ to mean a function that returns a function. Typically, a functional's parameters determine the parameter of the function that's returned."
   ]
  },
  {
   "cell_type": "code",
   "execution_count": null,
   "metadata": {},
   "outputs": [],
   "source": [
    "\"\"\"Dictionary functionals contains functions that return dictionary manipulating functions.\n",
    "\n",
    "Functionals take zero or more parameters that specify how to manipulate a dictionary. Their returned \n",
    "functions take one or more dictionaries and return a value.\n",
    "\n",
    "Functionals\n",
    "-----------\n",
    "has_keys:\n",
    "    Tests whether dictionary has the keys in a list.\n",
    "\n",
    "filter_values:\n",
    "    Tests whether values in a dictionary satisfy a predicate.\n",
    "\n",
    "extract_keys:\n",
    "    Return a dictionary including only certain keys.\n",
    "\n",
    "drop_keys:\n",
    "    Return a dictionary excluding certain keys.\n",
    "\n",
    "map_values:\n",
    "    Apply a mapping to specified keys, returning the transformed dictionary.\n",
    "\n",
    "flatten_dictionary:\n",
    "    Return a dictionary that inherits the key-value pairs of any dictionary-valued key.\n",
    "\n",
    "\"\"\""
   ]
  },
  {
   "cell_type": "code",
   "execution_count": null,
   "metadata": {},
   "outputs": [],
   "source": [
    "from typing import List, Callable, Dict, Any\n",
    "from functools import singledispatch, lru_cache\n",
    "from collections import namedtuple"
   ]
  },
  {
   "cell_type": "code",
   "execution_count": null,
   "metadata": {},
   "outputs": [],
   "source": [
    "FunctionalMap = Dict[Any, Callable]"
   ]
  },
  {
   "cell_type": "code",
   "execution_count": null,
   "metadata": {},
   "outputs": [],
   "source": [
    "def has_keys(keys: List, every: bool = True, only: bool = False) -> Callable[[dict], dict]:\n",
    "    \"\"\"True if all/only keys are dictionary.\n",
    "    \n",
    "    every: bool\n",
    "        Requires all keys to be in a dictionary.\n",
    "\n",
    "    only: bool\n",
    "        Requires all dictionary keys to be in keys.\n",
    "    \n",
    "    If both all and only are false, returns True if and only if the dictionary is not\n",
    "    empty.\n",
    "\n",
    "    \"\"\"\n",
    "    def _func(dict_):\n",
    "        if every and only:\n",
    "            has_all = all([k in keys for k in dict_])\n",
    "            has_only = all([k in dict_.keys() for k in keys])\n",
    "            return has_all and has_only\n",
    "        if every:\n",
    "            return all([k in dict_ for k in keys])\n",
    "        if only:\n",
    "            return all([k in keys for k in dict_])\n",
    "        return bool(dict_)\n",
    "    return _func\n"
   ]
  },
  {
   "cell_type": "code",
   "execution_count": null,
   "metadata": {},
   "outputs": [],
   "source": [
    "def filter_values(mapping: FunctionalMap):\n",
    "    \"\"\"Return True if predicate in mapping is true for all.\"\"\" \n",
    "    @singledispatch\n",
    "    def _func(dict_: dict) -> Callable[[Dict[Any, Callable]], dict]:\n",
    "        return all(mapping[k](dict_[k]) for k in dict_)\n",
    "\n",
    "    @_func.register\n",
    "    def _(dict_: tuple):\n",
    "        return all(mapping[k](getattr(dict_, k)) for k in mapping)\n",
    "    return _func\n",
    "\n",
    "test_nt = namedtuple('test_nt', ['a', 'b'])\n",
    "d = {'a': lambda x: x > 2}\n",
    "assert not filter_values(d)({'a': 1})\n",
    "assert filter_values(d)({'a': 3})\n",
    "assert filter_values(d)(test_nt(3, 1))\n"
   ]
  },
  {
   "cell_type": "code",
   "execution_count": null,
   "metadata": {},
   "outputs": [],
   "source": [
    "list_of_dicts = [\n",
    "    {'a': 1, 'b': 2},\n",
    "    {'c': 2, 'b': 3},\n",
    "    {'a': 2, 'b': 3, 'c': 0}\n",
    "]\n",
    "\n",
    "has_keys_test = list(filter(has_keys(['b'], every=False), list_of_dicts))\n",
    "print(has_keys_test)\n",
    "assert len(has_keys_test) == 3\n",
    "assert all([('b' in dict_) for dict_ in has_keys_test])"
   ]
  },
  {
   "cell_type": "code",
   "execution_count": null,
   "metadata": {},
   "outputs": [],
   "source": [
    "def extract_keys(keys: List[str]) -> Callable[[dict], dict]:\n",
    "    \"\"\"Returns dictionary whose only keys are keys parameter.\"\"\"\n",
    "    @singledispatch\n",
    "    def _func(dict_: dict) -> dict:\n",
    "        return {k: v for k, v in dict_.items() if k in keys}\n",
    "\n",
    "    @_func.register\n",
    "    def _(dict_: tuple):\n",
    "        fields = [field for field in dict_.fieldnames if field in keys]\n",
    "        new_namedtuple = nt_builder('extracted', *fields)\n",
    "        return new_namedtuple._make(getattr(dict_, f) for f in fields)\n",
    "\n",
    "    return _func\n",
    "\n",
    "def drop_keys(keys: List[str]) -> Callable[[dict], dict]:\n",
    "    \"\"\"Returns dictionary without keys in keys parameter.\"\"\"\n",
    "    @singledispatch\n",
    "    def _func(dict_: dict) -> dict:\n",
    "        return {k: v for k, v in dict_.items() if k not in keys}\n",
    "\n",
    "    @_func.register\n",
    "    def _(dict_: tuple):\n",
    "        fields = [field for field in dict_.fieldnames if field not in keys]\n",
    "        new_namedtuple = nt_builder('dropped', *fields)\n",
    "        return new_namedtuple._make(getattr(dict_, f) for f in fields)\n",
    "\n",
    "    return _func\n"
   ]
  },
  {
   "cell_type": "code",
   "execution_count": null,
   "metadata": {},
   "outputs": [],
   "source": [
    "def map_values(mapping: FunctionalMap):\n",
    "    \"\"\"Apply a mapping to each column.\"\"\"\n",
    "    @singledispatch\n",
    "    def _func(dict_: dict) -> dict:\n",
    "        anon = (lambda k, v: mapping[k](v) if k in mapping else v)\n",
    "        return {k: anon(k, v) for k, v in dict_.items()}\n",
    "\n",
    "    @_func.register\n",
    "    def _(dict_: tuple) -> tuple:\n",
    "        mapped = {k: mapping[k](getattr(dict_, k)) for k in mapping}\n",
    "        return dict_._replace(**mapped)\n",
    "    \n",
    "    return _func\n"
   ]
  },
  {
   "cell_type": "code",
   "execution_count": null,
   "metadata": {},
   "outputs": [],
   "source": [
    "%timeit map_values({'a': lambda x: x**2})(test_nt(3, 1))\n",
    "#isinstance(test_nt(3, 1)       , tuple)\n",
    "        \n"
   ]
  },
  {
   "cell_type": "code",
   "execution_count": null,
   "metadata": {},
   "outputs": [],
   "source": [
    "%timeit map_values({'a': lambda x: x**2})({'a': 3, 'b': 1, 'c': 2})"
   ]
  },
  {
   "cell_type": "code",
   "execution_count": 8,
   "metadata": {},
   "outputs": [
    {
     "data": {
      "text/plain": [
       "{'a': 1, 'd__b': 1, 'd__c': 1}"
      ]
     },
     "execution_count": 8,
     "metadata": {},
     "output_type": "execute_result"
    }
   ],
   "source": [
    "from functionals.dict_functionals import flatten_dict\n",
    "assert flatten_dict()({\"a\": 1, 'd': {\"b\":1, 'c': 1}}) == {'a': 1, 'd__b': 1, 'd__c': 1}"
   ]
  },
  {
   "cell_type": "code",
   "execution_count": 7,
   "metadata": {},
   "outputs": [
    {
     "ename": "UnboundLocalError",
     "evalue": "local variable 'var' referenced before assignment",
     "output_type": "error",
     "traceback": [
      "\u001b[1;31m---------------------------------------------------------------------------\u001b[0m",
      "\u001b[1;31mUnboundLocalError\u001b[0m                         Traceback (most recent call last)",
      "\u001b[1;32m~\\AppData\\Local\\Temp/ipykernel_31212/3567289595.py\u001b[0m in \u001b[0;36m<module>\u001b[1;34m\u001b[0m\n\u001b[0;32m      7\u001b[0m     \u001b[0mprint\u001b[0m\u001b[1;33m(\u001b[0m\u001b[0mvar\u001b[0m\u001b[1;33m)\u001b[0m\u001b[1;33m\u001b[0m\u001b[1;33m\u001b[0m\u001b[0m\n\u001b[0;32m      8\u001b[0m \u001b[1;33m\u001b[0m\u001b[0m\n\u001b[1;32m----> 9\u001b[1;33m \u001b[0mmy_function\u001b[0m\u001b[1;33m(\u001b[0m\u001b[1;33m)\u001b[0m \u001b[1;31m# Calling function\u001b[0m\u001b[1;33m\u001b[0m\u001b[1;33m\u001b[0m\u001b[0m\n\u001b[0m",
      "\u001b[1;32m~\\AppData\\Local\\Temp/ipykernel_31212/3567289595.py\u001b[0m in \u001b[0;36mmy_function\u001b[1;34m()\u001b[0m\n\u001b[0;32m      3\u001b[0m \u001b[1;33m\u001b[0m\u001b[0m\n\u001b[0;32m      4\u001b[0m \u001b[1;32mdef\u001b[0m \u001b[0mmy_function\u001b[0m\u001b[1;33m(\u001b[0m\u001b[1;33m)\u001b[0m\u001b[1;33m:\u001b[0m\u001b[1;33m\u001b[0m\u001b[1;33m\u001b[0m\u001b[0m\n\u001b[1;32m----> 5\u001b[1;33m     \u001b[0mprint\u001b[0m\u001b[1;33m(\u001b[0m\u001b[0mvar\u001b[0m\u001b[1;33m)\u001b[0m\u001b[1;33m\u001b[0m\u001b[1;33m\u001b[0m\u001b[0m\n\u001b[0m\u001b[0;32m      6\u001b[0m     \u001b[0mvar\u001b[0m \u001b[1;33m=\u001b[0m \u001b[1;34m'Hello'\u001b[0m \u001b[1;31m# This causes UnboundLocalError\u001b[0m\u001b[1;33m\u001b[0m\u001b[1;33m\u001b[0m\u001b[0m\n\u001b[0;32m      7\u001b[0m     \u001b[0mprint\u001b[0m\u001b[1;33m(\u001b[0m\u001b[0mvar\u001b[0m\u001b[1;33m)\u001b[0m\u001b[1;33m\u001b[0m\u001b[1;33m\u001b[0m\u001b[0m\n",
      "\u001b[1;31mUnboundLocalError\u001b[0m: local variable 'var' referenced before assignment"
     ]
    }
   ],
   "source": [
    "\n",
    "# UnboundLocalError in Python\n",
    "var = 20 # a is global variable\n",
    "\n",
    "def my_function():\n",
    "    print(var)\n",
    "    var = 'Hello' # This causes UnboundLocalError\n",
    "    print(var)\n",
    "\n",
    "my_function() # Calling function\n"
   ]
  },
  {
   "cell_type": "code",
   "execution_count": null,
   "metadata": {},
   "outputs": [],
   "source": [
    "import math\n",
    "def sequential_func(*functions):\n",
    "    \"\"\"Apply functions in order.\"\"\"\n",
    "    def _func(*args):\n",
    "        for function in functions:\n",
    "            try:\n",
    "                args = function(*args)\n",
    "            except TypeError:\n",
    "                args = function(args)\n",
    "        return args\n",
    "    return _func\n"
   ]
  },
  {
   "cell_type": "code",
   "execution_count": null,
   "metadata": {},
   "outputs": [],
   "source": [
    "def explode_dict(key):\n",
    "    \"\"\"Return an iterable of dictionaries from a dictionary with iterable keys.\n",
    "\n",
    "    Parameters\n",
    "    ----------\n",
    "    key\n",
    "        The key to explode.\n",
    "\n",
    "    Returns\n",
    "    -------\n",
    "        A function that takes a dictionary and returns an iterable of\n",
    "        dictionaries exploded by the key.\n",
    "\n",
    "    Example\n",
    "    -------\n",
    "        list(explode_dict(a)({a: [1, 2], b: 3}))\n",
    "        >>>[{a: 1, b: 3}, {a: 2, b: 3}]\n",
    "    \"\"\"\n",
    "\n",
    "    def func_(dict_):\n",
    "        for v in dict_[key]:\n",
    "            out = {k: v for k, v in dict_.items()}\n",
    "            out[key] = v\n",
    "            yield out\n",
    "    return func_\n",
    "\n",
    "assert list(explode_dict('a')({'a': [1, 2], 'b': 3})) == [{'a': 1, 'b': 3}, {'a': 2, 'b': 3}]"
   ]
  }
 ],
 "metadata": {
  "interpreter": {
   "hash": "02ee4401c5460a4ee3bc94108cf95546c8e39c298a8555b54bdd3e60e7d4869e"
  },
  "kernelspec": {
   "display_name": "Python 3.8.5 64-bit ('base': conda)",
   "name": "python3"
  },
  "language_info": {
   "codemirror_mode": {
    "name": "ipython",
    "version": 3
   },
   "file_extension": ".py",
   "mimetype": "text/x-python",
   "name": "python",
   "nbconvert_exporter": "python",
   "pygments_lexer": "ipython3",
   "version": "3.9.7"
  },
  "orig_nbformat": 4
 },
 "nbformat": 4,
 "nbformat_minor": 2
}
